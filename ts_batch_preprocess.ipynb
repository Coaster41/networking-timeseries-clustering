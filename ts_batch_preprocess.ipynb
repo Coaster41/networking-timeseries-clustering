{
 "cells": [
  {
   "cell_type": "code",
   "execution_count": 1,
   "id": "f8b032c8",
   "metadata": {},
   "outputs": [],
   "source": [
    "import pickle\n",
    "from ts_cluster import *\n",
    "from ts_preprocess import *\n",
    "import os\n",
    "import random\n",
    "import time\n",
    "from tqdm import tqdm\n",
    "from sklearn.mixture import GaussianMixture\n",
    "\n",
    "UPPER_DIR = \"data/LENS-2023-11-CSV/LENS-2023-11-CSV/inside-out/active\"\n",
    "CITIES = [\"chicago\", \"frankfurt\", \"ottawa\", \"seychelles\", \"vancouver\", \"victoria\"]\n",
    "FC_FILE = \"data/potential_features.json\"\n",
    "fc_settings = get_fc_settings(path=FC_FILE)"
   ]
  },
  {
   "cell_type": "code",
   "execution_count": 2,
   "id": "c857a62b",
   "metadata": {},
   "outputs": [
    {
     "name": "stdout",
     "output_type": "stream",
     "text": [
      "Finished Loading: 39.94 seconds\n",
      "Finished concat: 0.24 seconds\n"
     ]
    },
    {
     "name": "stderr",
     "output_type": "stream",
     "text": [
      "Feature Extraction: 100%|██████████| 80/80 [00:02<00:00, 32.25it/s]\n"
     ]
    },
    {
     "name": "stdout",
     "output_type": "stream",
     "text": [
      "Finished get_features: 104.44 seconds\n",
      "Lowest score:  0.22998912648249992\n",
      "Highest score:  0.35389965079947816\n",
      "Finished clustering: 18.49 seconds\n"
     ]
    }
   ],
   "source": [
    "# Learn initital Clustering and Features\n",
    "df = []\n",
    "timer = time.time()\n",
    "for i, city in enumerate(CITIES):\n",
    "    folder = random.choice(os.listdir(f\"{UPPER_DIR}/{city}\"))\n",
    "    df_raw, start_time = load_ts(f\"{UPPER_DIR}/{city}\", folder)\n",
    "    df_raw[\"id\"] += 1000 * i\n",
    "    df.append(df_raw)\n",
    "\n",
    "print(f\"Finished Loading: {(time.time()-timer):.2f} seconds\")\n",
    "timer = time.time()\n",
    "df = pd.concat(df, ignore_index=True)\n",
    "print(f\"Finished concat: {(time.time()-timer):.2f} seconds\")\n",
    "timer = time.time()\n",
    "filtered_features, top_feature_names = get_features(df_raw, fc_settings, top_feature_names=None)\n",
    "print(f\"Finished get_features: {(time.time()-timer):.2f} seconds\")\n",
    "timer = time.time()\n",
    "df_clustered, cluster_map, gmm = cluster_features(filtered_features, df, gmm=None)\n",
    "print(f\"Finished clustering: {(time.time()-timer):.2f} seconds\")"
   ]
  },
  {
   "cell_type": "code",
   "execution_count": 3,
   "id": "baeb39a7",
   "metadata": {},
   "outputs": [],
   "source": [
    "# top_feature_names = ['value__mean', 'value__quantile__q_0.125', 'value__truncated_mean__q_0.05', 'value__quantile__q_0.05', 'value__autocorrelation__lag_5', 'value__autocorrelation__lag_1', 'value__autocorrelation__lag_3']\n",
    "# filename = \"gmm_model.pkl\"\n",
    "# with open(filename, 'rb') as file:\n",
    "#     gmm = pickle.load(file)"
   ]
  },
  {
   "cell_type": "code",
   "execution_count": 4,
   "id": "5336657d",
   "metadata": {},
   "outputs": [
    {
     "name": "stderr",
     "output_type": "stream",
     "text": [
      "Feature Extraction: 100%|██████████| 80/80 [00:02<00:00, 33.17it/s]\n",
      "/extra/datalab_scratch0/ctadler/time_series_models/uni2ts/venv/lib/python3.10/site-packages/sklearn/utils/validation.py:2732: UserWarning: X has feature names, but GaussianMixture was fitted without feature names\n",
      "  warnings.warn(\n"
     ]
    },
    {
     "name": "stdout",
     "output_type": "stream",
     "text": [
      "Completed chicago 2023-11-23: 53.05 seconds\n"
     ]
    },
    {
     "name": "stderr",
     "output_type": "stream",
     "text": [
      "Feature Extraction: 100%|██████████| 80/80 [00:02<00:00, 34.15it/s]\n",
      "/extra/datalab_scratch0/ctadler/time_series_models/uni2ts/venv/lib/python3.10/site-packages/sklearn/utils/validation.py:2732: UserWarning: X has feature names, but GaussianMixture was fitted without feature names\n",
      "  warnings.warn(\n"
     ]
    },
    {
     "name": "stdout",
     "output_type": "stream",
     "text": [
      "Completed chicago 2023-11-30: 105.95 seconds\n"
     ]
    },
    {
     "name": "stderr",
     "output_type": "stream",
     "text": [
      "Feature Extraction: 100%|██████████| 80/80 [00:02<00:00, 31.01it/s]\n",
      "/extra/datalab_scratch0/ctadler/time_series_models/uni2ts/venv/lib/python3.10/site-packages/sklearn/utils/validation.py:2732: UserWarning: X has feature names, but GaussianMixture was fitted without feature names\n",
      "  warnings.warn(\n"
     ]
    },
    {
     "name": "stdout",
     "output_type": "stream",
     "text": [
      "Completed chicago 2023-11-19: 163.22 seconds\n"
     ]
    },
    {
     "name": "stderr",
     "output_type": "stream",
     "text": [
      "Feature Extraction: 100%|██████████| 80/80 [00:02<00:00, 37.71it/s]\n",
      "/extra/datalab_scratch0/ctadler/time_series_models/uni2ts/venv/lib/python3.10/site-packages/sklearn/utils/validation.py:2732: UserWarning: X has feature names, but GaussianMixture was fitted without feature names\n",
      "  warnings.warn(\n"
     ]
    },
    {
     "name": "stdout",
     "output_type": "stream",
     "text": [
      "Completed chicago 2023-11-20: 215.91 seconds\n"
     ]
    },
    {
     "name": "stderr",
     "output_type": "stream",
     "text": [
      "Feature Extraction: 100%|██████████| 80/80 [00:02<00:00, 32.68it/s]\n",
      "/extra/datalab_scratch0/ctadler/time_series_models/uni2ts/venv/lib/python3.10/site-packages/sklearn/utils/validation.py:2732: UserWarning: X has feature names, but GaussianMixture was fitted without feature names\n",
      "  warnings.warn(\n"
     ]
    },
    {
     "name": "stdout",
     "output_type": "stream",
     "text": [
      "Completed chicago 2023-11-26: 272.77 seconds\n"
     ]
    },
    {
     "name": "stderr",
     "output_type": "stream",
     "text": [
      "Feature Extraction: 100%|██████████| 80/80 [00:02<00:00, 33.27it/s]\n",
      "/extra/datalab_scratch0/ctadler/time_series_models/uni2ts/venv/lib/python3.10/site-packages/sklearn/utils/validation.py:2732: UserWarning: X has feature names, but GaussianMixture was fitted without feature names\n",
      "  warnings.warn(\n"
     ]
    },
    {
     "name": "stdout",
     "output_type": "stream",
     "text": [
      "Completed chicago 2023-11-18: 330.21 seconds\n"
     ]
    },
    {
     "name": "stderr",
     "output_type": "stream",
     "text": [
      "Feature Extraction: 100%|██████████| 80/80 [00:02<00:00, 33.36it/s]\n",
      "/extra/datalab_scratch0/ctadler/time_series_models/uni2ts/venv/lib/python3.10/site-packages/sklearn/utils/validation.py:2732: UserWarning: X has feature names, but GaussianMixture was fitted without feature names\n",
      "  warnings.warn(\n"
     ]
    },
    {
     "name": "stdout",
     "output_type": "stream",
     "text": [
      "Completed chicago 2023-11-22: 384.33 seconds\n"
     ]
    },
    {
     "name": "stderr",
     "output_type": "stream",
     "text": [
      "Feature Extraction: 100%|██████████| 80/80 [00:02<00:00, 36.65it/s]\n",
      "/extra/datalab_scratch0/ctadler/time_series_models/uni2ts/venv/lib/python3.10/site-packages/sklearn/utils/validation.py:2732: UserWarning: X has feature names, but GaussianMixture was fitted without feature names\n",
      "  warnings.warn(\n"
     ]
    },
    {
     "name": "stdout",
     "output_type": "stream",
     "text": [
      "Completed chicago 2023-11-17: 436.02 seconds\n"
     ]
    },
    {
     "name": "stderr",
     "output_type": "stream",
     "text": [
      "Feature Extraction: 100%|██████████| 80/80 [00:02<00:00, 32.42it/s]\n",
      "/extra/datalab_scratch0/ctadler/time_series_models/uni2ts/venv/lib/python3.10/site-packages/sklearn/utils/validation.py:2732: UserWarning: X has feature names, but GaussianMixture was fitted without feature names\n",
      "  warnings.warn(\n"
     ]
    },
    {
     "name": "stdout",
     "output_type": "stream",
     "text": [
      "Completed chicago 2023-11-27: 493.65 seconds\n"
     ]
    },
    {
     "name": "stderr",
     "output_type": "stream",
     "text": [
      "Feature Extraction: 100%|██████████| 80/80 [00:02<00:00, 31.41it/s]\n",
      "/extra/datalab_scratch0/ctadler/time_series_models/uni2ts/venv/lib/python3.10/site-packages/sklearn/utils/validation.py:2732: UserWarning: X has feature names, but GaussianMixture was fitted without feature names\n",
      "  warnings.warn(\n"
     ]
    },
    {
     "name": "stdout",
     "output_type": "stream",
     "text": [
      "Completed chicago 2023-11-24: 549.61 seconds\n"
     ]
    },
    {
     "name": "stderr",
     "output_type": "stream",
     "text": [
      "Feature Extraction: 100%|██████████| 80/80 [00:02<00:00, 32.81it/s]\n",
      "/extra/datalab_scratch0/ctadler/time_series_models/uni2ts/venv/lib/python3.10/site-packages/sklearn/utils/validation.py:2732: UserWarning: X has feature names, but GaussianMixture was fitted without feature names\n",
      "  warnings.warn(\n"
     ]
    },
    {
     "name": "stdout",
     "output_type": "stream",
     "text": [
      "Completed chicago 2023-11-29: 605.92 seconds\n"
     ]
    },
    {
     "name": "stderr",
     "output_type": "stream",
     "text": [
      "Feature Extraction: 100%|██████████| 80/80 [00:02<00:00, 34.31it/s]\n",
      "/extra/datalab_scratch0/ctadler/time_series_models/uni2ts/venv/lib/python3.10/site-packages/sklearn/utils/validation.py:2732: UserWarning: X has feature names, but GaussianMixture was fitted without feature names\n",
      "  warnings.warn(\n"
     ]
    },
    {
     "name": "stdout",
     "output_type": "stream",
     "text": [
      "Completed chicago 2023-11-25: 660.63 seconds\n"
     ]
    },
    {
     "name": "stderr",
     "output_type": "stream",
     "text": [
      "Feature Extraction: 100%|██████████| 80/80 [00:02<00:00, 32.53it/s]\n",
      "/extra/datalab_scratch0/ctadler/time_series_models/uni2ts/venv/lib/python3.10/site-packages/sklearn/utils/validation.py:2732: UserWarning: X has feature names, but GaussianMixture was fitted without feature names\n",
      "  warnings.warn(\n"
     ]
    },
    {
     "name": "stdout",
     "output_type": "stream",
     "text": [
      "Completed chicago 2023-11-28: 717.94 seconds\n"
     ]
    },
    {
     "name": "stderr",
     "output_type": "stream",
     "text": [
      "Feature Extraction: 100%|██████████| 80/80 [00:02<00:00, 32.15it/s]\n",
      "/extra/datalab_scratch0/ctadler/time_series_models/uni2ts/venv/lib/python3.10/site-packages/sklearn/utils/validation.py:2732: UserWarning: X has feature names, but GaussianMixture was fitted without feature names\n",
      "  warnings.warn(\n"
     ]
    },
    {
     "name": "stdout",
     "output_type": "stream",
     "text": [
      "Completed chicago 2023-11-21: 775.02 seconds\n"
     ]
    },
    {
     "name": "stderr",
     "output_type": "stream",
     "text": [
      "Feature Extraction: 100%|██████████| 80/80 [00:01<00:00, 44.14it/s]\n",
      "/extra/datalab_scratch0/ctadler/time_series_models/uni2ts/venv/lib/python3.10/site-packages/sklearn/utils/validation.py:2732: UserWarning: X has feature names, but GaussianMixture was fitted without feature names\n",
      "  warnings.warn(\n"
     ]
    },
    {
     "name": "stdout",
     "output_type": "stream",
     "text": [
      "Completed frankfurt 2023-11-23: 816.55 seconds\n"
     ]
    },
    {
     "name": "stderr",
     "output_type": "stream",
     "text": [
      "Feature Extraction: 100%|██████████| 80/80 [00:02<00:00, 32.24it/s]\n",
      "/extra/datalab_scratch0/ctadler/time_series_models/uni2ts/venv/lib/python3.10/site-packages/sklearn/utils/validation.py:2732: UserWarning: X has feature names, but GaussianMixture was fitted without feature names\n",
      "  warnings.warn(\n"
     ]
    },
    {
     "name": "stdout",
     "output_type": "stream",
     "text": [
      "Completed frankfurt 2023-11-30: 872.65 seconds\n"
     ]
    },
    {
     "name": "stderr",
     "output_type": "stream",
     "text": [
      "Feature Extraction: 100%|██████████| 80/80 [00:02<00:00, 33.05it/s]\n",
      "/extra/datalab_scratch0/ctadler/time_series_models/uni2ts/venv/lib/python3.10/site-packages/sklearn/utils/validation.py:2732: UserWarning: X has feature names, but GaussianMixture was fitted without feature names\n",
      "  warnings.warn(\n"
     ]
    },
    {
     "name": "stdout",
     "output_type": "stream",
     "text": [
      "Completed frankfurt 2023-11-19: 928.38 seconds\n"
     ]
    },
    {
     "name": "stderr",
     "output_type": "stream",
     "text": [
      "Feature Extraction: 100%|██████████| 80/80 [00:02<00:00, 31.32it/s]\n",
      "/extra/datalab_scratch0/ctadler/time_series_models/uni2ts/venv/lib/python3.10/site-packages/sklearn/utils/validation.py:2732: UserWarning: X has feature names, but GaussianMixture was fitted without feature names\n",
      "  warnings.warn(\n"
     ]
    },
    {
     "name": "stdout",
     "output_type": "stream",
     "text": [
      "Completed frankfurt 2023-11-20: 984.93 seconds\n"
     ]
    },
    {
     "name": "stderr",
     "output_type": "stream",
     "text": [
      "Feature Extraction: 100%|██████████| 80/80 [00:02<00:00, 30.61it/s]\n",
      "/extra/datalab_scratch0/ctadler/time_series_models/uni2ts/venv/lib/python3.10/site-packages/sklearn/utils/validation.py:2732: UserWarning: X has feature names, but GaussianMixture was fitted without feature names\n",
      "  warnings.warn(\n"
     ]
    },
    {
     "name": "stdout",
     "output_type": "stream",
     "text": [
      "Completed frankfurt 2023-11-26: 1038.20 seconds\n"
     ]
    },
    {
     "name": "stderr",
     "output_type": "stream",
     "text": [
      "Feature Extraction: 100%|██████████| 80/80 [00:02<00:00, 33.74it/s]\n",
      "/extra/datalab_scratch0/ctadler/time_series_models/uni2ts/venv/lib/python3.10/site-packages/sklearn/utils/validation.py:2732: UserWarning: X has feature names, but GaussianMixture was fitted without feature names\n",
      "  warnings.warn(\n"
     ]
    },
    {
     "name": "stdout",
     "output_type": "stream",
     "text": [
      "Completed frankfurt 2023-11-18: 1093.09 seconds\n"
     ]
    },
    {
     "name": "stderr",
     "output_type": "stream",
     "text": [
      "Feature Extraction: 100%|██████████| 80/80 [00:02<00:00, 36.35it/s]\n",
      "/extra/datalab_scratch0/ctadler/time_series_models/uni2ts/venv/lib/python3.10/site-packages/sklearn/utils/validation.py:2732: UserWarning: X has feature names, but GaussianMixture was fitted without feature names\n",
      "  warnings.warn(\n"
     ]
    },
    {
     "name": "stdout",
     "output_type": "stream",
     "text": [
      "Completed frankfurt 2023-11-22: 1142.13 seconds\n"
     ]
    },
    {
     "name": "stderr",
     "output_type": "stream",
     "text": [
      "Feature Extraction: 100%|██████████| 80/80 [00:02<00:00, 38.43it/s]\n",
      "/extra/datalab_scratch0/ctadler/time_series_models/uni2ts/venv/lib/python3.10/site-packages/sklearn/utils/validation.py:2732: UserWarning: X has feature names, but GaussianMixture was fitted without feature names\n",
      "  warnings.warn(\n"
     ]
    },
    {
     "name": "stdout",
     "output_type": "stream",
     "text": [
      "Completed frankfurt 2023-11-17: 1193.86 seconds\n"
     ]
    },
    {
     "name": "stderr",
     "output_type": "stream",
     "text": [
      "Feature Extraction: 100%|██████████| 80/80 [00:02<00:00, 33.01it/s]\n",
      "/extra/datalab_scratch0/ctadler/time_series_models/uni2ts/venv/lib/python3.10/site-packages/sklearn/utils/validation.py:2732: UserWarning: X has feature names, but GaussianMixture was fitted without feature names\n",
      "  warnings.warn(\n"
     ]
    },
    {
     "name": "stdout",
     "output_type": "stream",
     "text": [
      "Completed frankfurt 2023-11-27: 1246.98 seconds\n"
     ]
    },
    {
     "name": "stderr",
     "output_type": "stream",
     "text": [
      "Feature Extraction: 100%|██████████| 80/80 [00:02<00:00, 32.01it/s]\n",
      "/extra/datalab_scratch0/ctadler/time_series_models/uni2ts/venv/lib/python3.10/site-packages/sklearn/utils/validation.py:2732: UserWarning: X has feature names, but GaussianMixture was fitted without feature names\n",
      "  warnings.warn(\n"
     ]
    },
    {
     "name": "stdout",
     "output_type": "stream",
     "text": [
      "Completed frankfurt 2023-11-24: 1304.67 seconds\n"
     ]
    },
    {
     "name": "stderr",
     "output_type": "stream",
     "text": [
      "Feature Extraction: 100%|██████████| 80/80 [00:02<00:00, 36.48it/s]\n",
      "/extra/datalab_scratch0/ctadler/time_series_models/uni2ts/venv/lib/python3.10/site-packages/sklearn/utils/validation.py:2732: UserWarning: X has feature names, but GaussianMixture was fitted without feature names\n",
      "  warnings.warn(\n"
     ]
    },
    {
     "name": "stdout",
     "output_type": "stream",
     "text": [
      "Completed frankfurt 2023-11-29: 1356.29 seconds\n"
     ]
    },
    {
     "name": "stderr",
     "output_type": "stream",
     "text": [
      "Feature Extraction: 100%|██████████| 80/80 [00:01<00:00, 40.12it/s]\n",
      "/extra/datalab_scratch0/ctadler/time_series_models/uni2ts/venv/lib/python3.10/site-packages/sklearn/utils/validation.py:2732: UserWarning: X has feature names, but GaussianMixture was fitted without feature names\n",
      "  warnings.warn(\n"
     ]
    },
    {
     "name": "stdout",
     "output_type": "stream",
     "text": [
      "Completed frankfurt 2023-11-25: 1402.49 seconds\n"
     ]
    },
    {
     "name": "stderr",
     "output_type": "stream",
     "text": [
      "Feature Extraction: 100%|██████████| 80/80 [00:02<00:00, 35.51it/s]\n",
      "/extra/datalab_scratch0/ctadler/time_series_models/uni2ts/venv/lib/python3.10/site-packages/sklearn/utils/validation.py:2732: UserWarning: X has feature names, but GaussianMixture was fitted without feature names\n",
      "  warnings.warn(\n"
     ]
    },
    {
     "name": "stdout",
     "output_type": "stream",
     "text": [
      "Completed frankfurt 2023-11-28: 1455.42 seconds\n"
     ]
    },
    {
     "name": "stderr",
     "output_type": "stream",
     "text": [
      "Feature Extraction: 100%|██████████| 80/80 [00:02<00:00, 32.87it/s]\n",
      "/extra/datalab_scratch0/ctadler/time_series_models/uni2ts/venv/lib/python3.10/site-packages/sklearn/utils/validation.py:2732: UserWarning: X has feature names, but GaussianMixture was fitted without feature names\n",
      "  warnings.warn(\n"
     ]
    },
    {
     "name": "stdout",
     "output_type": "stream",
     "text": [
      "Completed frankfurt 2023-11-21: 1508.91 seconds\n"
     ]
    },
    {
     "name": "stderr",
     "output_type": "stream",
     "text": [
      "Feature Extraction: 100%|██████████| 80/80 [00:02<00:00, 35.79it/s]\n",
      "/extra/datalab_scratch0/ctadler/time_series_models/uni2ts/venv/lib/python3.10/site-packages/sklearn/utils/validation.py:2732: UserWarning: X has feature names, but GaussianMixture was fitted without feature names\n",
      "  warnings.warn(\n"
     ]
    },
    {
     "name": "stdout",
     "output_type": "stream",
     "text": [
      "Completed ottawa 2023-11-23: 1558.34 seconds\n"
     ]
    },
    {
     "name": "stderr",
     "output_type": "stream",
     "text": [
      "Feature Extraction: 100%|██████████| 80/80 [00:02<00:00, 32.11it/s]\n",
      "/extra/datalab_scratch0/ctadler/time_series_models/uni2ts/venv/lib/python3.10/site-packages/sklearn/utils/validation.py:2732: UserWarning: X has feature names, but GaussianMixture was fitted without feature names\n",
      "  warnings.warn(\n"
     ]
    },
    {
     "name": "stdout",
     "output_type": "stream",
     "text": [
      "Completed ottawa 2023-11-30: 1612.65 seconds\n"
     ]
    },
    {
     "name": "stderr",
     "output_type": "stream",
     "text": [
      "Feature Extraction: 100%|██████████| 80/80 [00:02<00:00, 35.54it/s]\n",
      "/extra/datalab_scratch0/ctadler/time_series_models/uni2ts/venv/lib/python3.10/site-packages/sklearn/utils/validation.py:2732: UserWarning: X has feature names, but GaussianMixture was fitted without feature names\n",
      "  warnings.warn(\n"
     ]
    },
    {
     "name": "stdout",
     "output_type": "stream",
     "text": [
      "Completed ottawa 2023-11-19: 1662.79 seconds\n"
     ]
    },
    {
     "name": "stderr",
     "output_type": "stream",
     "text": [
      "Feature Extraction: 100%|██████████| 80/80 [00:02<00:00, 35.15it/s]\n",
      "/extra/datalab_scratch0/ctadler/time_series_models/uni2ts/venv/lib/python3.10/site-packages/sklearn/utils/validation.py:2732: UserWarning: X has feature names, but GaussianMixture was fitted without feature names\n",
      "  warnings.warn(\n"
     ]
    },
    {
     "name": "stdout",
     "output_type": "stream",
     "text": [
      "Completed ottawa 2023-11-20: 1714.19 seconds\n"
     ]
    },
    {
     "name": "stderr",
     "output_type": "stream",
     "text": [
      "Feature Extraction: 100%|██████████| 79/79 [00:01<00:00, 48.66it/s]\n",
      "/extra/datalab_scratch0/ctadler/time_series_models/uni2ts/venv/lib/python3.10/site-packages/sklearn/utils/validation.py:2732: UserWarning: X has feature names, but GaussianMixture was fitted without feature names\n",
      "  warnings.warn(\n"
     ]
    },
    {
     "name": "stdout",
     "output_type": "stream",
     "text": [
      "Completed ottawa 2023-11-16: 1749.88 seconds\n"
     ]
    },
    {
     "name": "stderr",
     "output_type": "stream",
     "text": [
      "Feature Extraction: 100%|██████████| 80/80 [00:01<00:00, 50.18it/s]\n",
      "/extra/datalab_scratch0/ctadler/time_series_models/uni2ts/venv/lib/python3.10/site-packages/sklearn/utils/validation.py:2732: UserWarning: X has feature names, but GaussianMixture was fitted without feature names\n",
      "  warnings.warn(\n"
     ]
    },
    {
     "name": "stdout",
     "output_type": "stream",
     "text": [
      "Completed ottawa 2023-11-26: 1786.84 seconds\n"
     ]
    },
    {
     "name": "stderr",
     "output_type": "stream",
     "text": [
      "Feature Extraction: 100%|██████████| 80/80 [00:01<00:00, 73.97it/s]\n",
      "/extra/datalab_scratch0/ctadler/time_series_models/uni2ts/venv/lib/python3.10/site-packages/sklearn/utils/validation.py:2732: UserWarning: X has feature names, but GaussianMixture was fitted without feature names\n",
      "  warnings.warn(\n"
     ]
    },
    {
     "name": "stdout",
     "output_type": "stream",
     "text": [
      "Completed ottawa 2023-11-18: 1811.29 seconds\n"
     ]
    },
    {
     "name": "stderr",
     "output_type": "stream",
     "text": [
      "Feature Extraction: 100%|██████████| 80/80 [00:02<00:00, 31.84it/s]\n",
      "/extra/datalab_scratch0/ctadler/time_series_models/uni2ts/venv/lib/python3.10/site-packages/sklearn/utils/validation.py:2732: UserWarning: X has feature names, but GaussianMixture was fitted without feature names\n",
      "  warnings.warn(\n"
     ]
    },
    {
     "name": "stdout",
     "output_type": "stream",
     "text": [
      "Completed ottawa 2023-11-22: 1866.38 seconds\n"
     ]
    },
    {
     "name": "stderr",
     "output_type": "stream",
     "text": [
      "Feature Extraction: 100%|██████████| 80/80 [00:02<00:00, 32.46it/s]\n",
      "/extra/datalab_scratch0/ctadler/time_series_models/uni2ts/venv/lib/python3.10/site-packages/sklearn/utils/validation.py:2732: UserWarning: X has feature names, but GaussianMixture was fitted without feature names\n",
      "  warnings.warn(\n"
     ]
    },
    {
     "name": "stdout",
     "output_type": "stream",
     "text": [
      "Completed ottawa 2023-11-17: 1920.08 seconds\n"
     ]
    },
    {
     "name": "stderr",
     "output_type": "stream",
     "text": [
      "Feature Extraction: 100%|██████████| 79/79 [00:02<00:00, 34.13it/s]\n",
      "/extra/datalab_scratch0/ctadler/time_series_models/uni2ts/venv/lib/python3.10/site-packages/sklearn/utils/validation.py:2732: UserWarning: X has feature names, but GaussianMixture was fitted without feature names\n",
      "  warnings.warn(\n"
     ]
    },
    {
     "name": "stdout",
     "output_type": "stream",
     "text": [
      "Completed ottawa 2023-11-27: 1973.69 seconds\n"
     ]
    },
    {
     "name": "stderr",
     "output_type": "stream",
     "text": [
      "Feature Extraction: 100%|██████████| 80/80 [00:02<00:00, 33.31it/s]\n",
      "/extra/datalab_scratch0/ctadler/time_series_models/uni2ts/venv/lib/python3.10/site-packages/sklearn/utils/validation.py:2732: UserWarning: X has feature names, but GaussianMixture was fitted without feature names\n",
      "  warnings.warn(\n"
     ]
    },
    {
     "name": "stdout",
     "output_type": "stream",
     "text": [
      "Completed ottawa 2023-11-24: 2029.14 seconds\n"
     ]
    },
    {
     "name": "stderr",
     "output_type": "stream",
     "text": [
      "Feature Extraction: 100%|██████████| 80/80 [00:02<00:00, 31.62it/s]\n",
      "/extra/datalab_scratch0/ctadler/time_series_models/uni2ts/venv/lib/python3.10/site-packages/sklearn/utils/validation.py:2732: UserWarning: X has feature names, but GaussianMixture was fitted without feature names\n",
      "  warnings.warn(\n"
     ]
    },
    {
     "name": "stdout",
     "output_type": "stream",
     "text": [
      "Completed ottawa 2023-11-29: 2083.62 seconds\n"
     ]
    },
    {
     "name": "stderr",
     "output_type": "stream",
     "text": [
      "Feature Extraction: 100%|██████████| 79/79 [00:02<00:00, 32.87it/s]\n",
      "/extra/datalab_scratch0/ctadler/time_series_models/uni2ts/venv/lib/python3.10/site-packages/sklearn/utils/validation.py:2732: UserWarning: X has feature names, but GaussianMixture was fitted without feature names\n",
      "  warnings.warn(\n"
     ]
    },
    {
     "name": "stdout",
     "output_type": "stream",
     "text": [
      "Completed ottawa 2023-11-25: 2137.19 seconds\n"
     ]
    },
    {
     "name": "stderr",
     "output_type": "stream",
     "text": [
      "Feature Extraction: 100%|██████████| 79/79 [00:01<00:00, 52.34it/s]\n",
      "/extra/datalab_scratch0/ctadler/time_series_models/uni2ts/venv/lib/python3.10/site-packages/sklearn/utils/validation.py:2732: UserWarning: X has feature names, but GaussianMixture was fitted without feature names\n",
      "  warnings.warn(\n"
     ]
    },
    {
     "name": "stdout",
     "output_type": "stream",
     "text": [
      "Completed ottawa 2023-11-28: 2174.81 seconds\n"
     ]
    },
    {
     "name": "stderr",
     "output_type": "stream",
     "text": [
      "Feature Extraction: 100%|██████████| 80/80 [00:02<00:00, 38.52it/s]\n",
      "/extra/datalab_scratch0/ctadler/time_series_models/uni2ts/venv/lib/python3.10/site-packages/sklearn/utils/validation.py:2732: UserWarning: X has feature names, but GaussianMixture was fitted without feature names\n",
      "  warnings.warn(\n"
     ]
    },
    {
     "name": "stdout",
     "output_type": "stream",
     "text": [
      "Completed ottawa 2023-11-21: 2225.94 seconds\n"
     ]
    },
    {
     "name": "stderr",
     "output_type": "stream",
     "text": [
      "Feature Extraction: 100%|██████████| 79/79 [00:01<00:00, 41.40it/s]\n",
      "/extra/datalab_scratch0/ctadler/time_series_models/uni2ts/venv/lib/python3.10/site-packages/sklearn/utils/validation.py:2732: UserWarning: X has feature names, but GaussianMixture was fitted without feature names\n",
      "  warnings.warn(\n"
     ]
    },
    {
     "name": "stdout",
     "output_type": "stream",
     "text": [
      "Completed seychelles 2023-11-23: 2269.22 seconds\n"
     ]
    },
    {
     "name": "stderr",
     "output_type": "stream",
     "text": [
      "Feature Extraction: 100%|██████████| 80/80 [00:01<00:00, 49.48it/s]\n",
      "/extra/datalab_scratch0/ctadler/time_series_models/uni2ts/venv/lib/python3.10/site-packages/sklearn/utils/validation.py:2732: UserWarning: X has feature names, but GaussianMixture was fitted without feature names\n",
      "  warnings.warn(\n"
     ]
    },
    {
     "name": "stdout",
     "output_type": "stream",
     "text": [
      "Completed seychelles 2023-11-30: 2306.01 seconds\n"
     ]
    },
    {
     "name": "stderr",
     "output_type": "stream",
     "text": [
      "Feature Extraction: 100%|██████████| 80/80 [00:02<00:00, 36.48it/s]\n",
      "/extra/datalab_scratch0/ctadler/time_series_models/uni2ts/venv/lib/python3.10/site-packages/sklearn/utils/validation.py:2732: UserWarning: X has feature names, but GaussianMixture was fitted without feature names\n",
      "  warnings.warn(\n"
     ]
    },
    {
     "name": "stdout",
     "output_type": "stream",
     "text": [
      "Completed seychelles 2023-11-19: 2356.39 seconds\n"
     ]
    },
    {
     "name": "stderr",
     "output_type": "stream",
     "text": [
      "Feature Extraction: 100%|██████████| 79/79 [00:02<00:00, 38.10it/s]\n",
      "/extra/datalab_scratch0/ctadler/time_series_models/uni2ts/venv/lib/python3.10/site-packages/sklearn/utils/validation.py:2732: UserWarning: X has feature names, but GaussianMixture was fitted without feature names\n",
      "  warnings.warn(\n"
     ]
    },
    {
     "name": "stdout",
     "output_type": "stream",
     "text": [
      "Completed seychelles 2023-11-20: 2406.22 seconds\n"
     ]
    },
    {
     "name": "stderr",
     "output_type": "stream",
     "text": [
      "Feature Extraction: 100%|██████████| 78/78 [00:01<00:00, 67.85it/s]\n",
      "/extra/datalab_scratch0/ctadler/time_series_models/uni2ts/venv/lib/python3.10/site-packages/sklearn/utils/validation.py:2732: UserWarning: X has feature names, but GaussianMixture was fitted without feature names\n",
      "  warnings.warn(\n"
     ]
    },
    {
     "name": "stdout",
     "output_type": "stream",
     "text": [
      "Completed seychelles 2023-11-16: 2432.93 seconds\n"
     ]
    },
    {
     "name": "stderr",
     "output_type": "stream",
     "text": [
      "Feature Extraction: 100%|██████████| 80/80 [00:01<00:00, 48.18it/s]\n",
      "/extra/datalab_scratch0/ctadler/time_series_models/uni2ts/venv/lib/python3.10/site-packages/sklearn/utils/validation.py:2732: UserWarning: X has feature names, but GaussianMixture was fitted without feature names\n",
      "  warnings.warn(\n"
     ]
    },
    {
     "name": "stdout",
     "output_type": "stream",
     "text": [
      "Completed seychelles 2023-11-26: 2470.07 seconds\n"
     ]
    },
    {
     "name": "stderr",
     "output_type": "stream",
     "text": [
      "Feature Extraction: 100%|██████████| 79/79 [00:01<00:00, 39.89it/s]\n",
      "/extra/datalab_scratch0/ctadler/time_series_models/uni2ts/venv/lib/python3.10/site-packages/sklearn/utils/validation.py:2732: UserWarning: X has feature names, but GaussianMixture was fitted without feature names\n",
      "  warnings.warn(\n"
     ]
    },
    {
     "name": "stdout",
     "output_type": "stream",
     "text": [
      "Completed seychelles 2023-11-18: 2513.99 seconds\n"
     ]
    },
    {
     "name": "stderr",
     "output_type": "stream",
     "text": [
      "Feature Extraction: 100%|██████████| 80/80 [00:01<00:00, 70.71it/s]\n",
      "/extra/datalab_scratch0/ctadler/time_series_models/uni2ts/venv/lib/python3.10/site-packages/sklearn/utils/validation.py:2732: UserWarning: X has feature names, but GaussianMixture was fitted without feature names\n",
      "  warnings.warn(\n"
     ]
    },
    {
     "name": "stdout",
     "output_type": "stream",
     "text": [
      "Completed seychelles 2023-11-22: 2543.45 seconds\n"
     ]
    },
    {
     "name": "stderr",
     "output_type": "stream",
     "text": [
      "Feature Extraction: 100%|██████████| 80/80 [00:02<00:00, 34.19it/s]\n",
      "/extra/datalab_scratch0/ctadler/time_series_models/uni2ts/venv/lib/python3.10/site-packages/sklearn/utils/validation.py:2732: UserWarning: X has feature names, but GaussianMixture was fitted without feature names\n",
      "  warnings.warn(\n"
     ]
    },
    {
     "name": "stdout",
     "output_type": "stream",
     "text": [
      "Completed seychelles 2023-11-17: 2594.85 seconds\n"
     ]
    },
    {
     "name": "stderr",
     "output_type": "stream",
     "text": [
      "Feature Extraction: 100%|██████████| 80/80 [00:01<00:00, 45.81it/s]\n",
      "/extra/datalab_scratch0/ctadler/time_series_models/uni2ts/venv/lib/python3.10/site-packages/sklearn/utils/validation.py:2732: UserWarning: X has feature names, but GaussianMixture was fitted without feature names\n",
      "  warnings.warn(\n"
     ]
    },
    {
     "name": "stdout",
     "output_type": "stream",
     "text": [
      "Completed seychelles 2023-11-27: 2639.27 seconds\n"
     ]
    },
    {
     "name": "stderr",
     "output_type": "stream",
     "text": [
      "Feature Extraction: 100%|██████████| 79/79 [00:01<00:00, 42.84it/s]\n",
      "/extra/datalab_scratch0/ctadler/time_series_models/uni2ts/venv/lib/python3.10/site-packages/sklearn/utils/validation.py:2732: UserWarning: X has feature names, but GaussianMixture was fitted without feature names\n",
      "  warnings.warn(\n"
     ]
    },
    {
     "name": "stdout",
     "output_type": "stream",
     "text": [
      "Completed seychelles 2023-11-24: 2679.58 seconds\n"
     ]
    },
    {
     "name": "stderr",
     "output_type": "stream",
     "text": [
      "Feature Extraction: 100%|██████████| 79/79 [00:01<00:00, 60.65it/s]\n",
      "/extra/datalab_scratch0/ctadler/time_series_models/uni2ts/venv/lib/python3.10/site-packages/sklearn/utils/validation.py:2732: UserWarning: X has feature names, but GaussianMixture was fitted without feature names\n",
      "  warnings.warn(\n"
     ]
    },
    {
     "name": "stdout",
     "output_type": "stream",
     "text": [
      "Completed seychelles 2023-11-29: 2711.81 seconds\n"
     ]
    },
    {
     "name": "stderr",
     "output_type": "stream",
     "text": [
      "Feature Extraction: 100%|██████████| 80/80 [00:01<00:00, 40.33it/s]\n",
      "/extra/datalab_scratch0/ctadler/time_series_models/uni2ts/venv/lib/python3.10/site-packages/sklearn/utils/validation.py:2732: UserWarning: X has feature names, but GaussianMixture was fitted without feature names\n",
      "  warnings.warn(\n"
     ]
    },
    {
     "name": "stdout",
     "output_type": "stream",
     "text": [
      "Completed seychelles 2023-11-25: 2756.91 seconds\n"
     ]
    },
    {
     "name": "stderr",
     "output_type": "stream",
     "text": [
      "Feature Extraction: 100%|██████████| 80/80 [00:02<00:00, 38.00it/s]\n",
      "/extra/datalab_scratch0/ctadler/time_series_models/uni2ts/venv/lib/python3.10/site-packages/sklearn/utils/validation.py:2732: UserWarning: X has feature names, but GaussianMixture was fitted without feature names\n",
      "  warnings.warn(\n"
     ]
    },
    {
     "name": "stdout",
     "output_type": "stream",
     "text": [
      "Completed seychelles 2023-11-28: 2802.39 seconds\n"
     ]
    },
    {
     "name": "stderr",
     "output_type": "stream",
     "text": [
      "Feature Extraction: 100%|██████████| 79/79 [00:01<00:00, 44.27it/s]\n",
      "/extra/datalab_scratch0/ctadler/time_series_models/uni2ts/venv/lib/python3.10/site-packages/sklearn/utils/validation.py:2732: UserWarning: X has feature names, but GaussianMixture was fitted without feature names\n",
      "  warnings.warn(\n"
     ]
    },
    {
     "name": "stdout",
     "output_type": "stream",
     "text": [
      "Completed seychelles 2023-11-21: 2846.27 seconds\n"
     ]
    },
    {
     "name": "stderr",
     "output_type": "stream",
     "text": [
      "Feature Extraction: 100%|██████████| 80/80 [00:02<00:00, 30.96it/s]\n",
      "/extra/datalab_scratch0/ctadler/time_series_models/uni2ts/venv/lib/python3.10/site-packages/sklearn/utils/validation.py:2732: UserWarning: X has feature names, but GaussianMixture was fitted without feature names\n",
      "  warnings.warn(\n"
     ]
    },
    {
     "name": "stdout",
     "output_type": "stream",
     "text": [
      "Completed vancouver 2023-11-23: 2902.80 seconds\n"
     ]
    },
    {
     "name": "stderr",
     "output_type": "stream",
     "text": [
      "Feature Extraction: 100%|██████████| 80/80 [00:02<00:00, 30.55it/s]\n",
      "/extra/datalab_scratch0/ctadler/time_series_models/uni2ts/venv/lib/python3.10/site-packages/sklearn/utils/validation.py:2732: UserWarning: X has feature names, but GaussianMixture was fitted without feature names\n",
      "  warnings.warn(\n"
     ]
    },
    {
     "name": "stdout",
     "output_type": "stream",
     "text": [
      "Completed vancouver 2023-11-30: 2959.71 seconds\n"
     ]
    },
    {
     "name": "stderr",
     "output_type": "stream",
     "text": [
      "Feature Extraction: 100%|██████████| 80/80 [00:02<00:00, 35.69it/s]\n",
      "/extra/datalab_scratch0/ctadler/time_series_models/uni2ts/venv/lib/python3.10/site-packages/sklearn/utils/validation.py:2732: UserWarning: X has feature names, but GaussianMixture was fitted without feature names\n",
      "  warnings.warn(\n"
     ]
    },
    {
     "name": "stdout",
     "output_type": "stream",
     "text": [
      "Completed vancouver 2023-11-19: 3012.90 seconds\n"
     ]
    },
    {
     "name": "stderr",
     "output_type": "stream",
     "text": [
      "Feature Extraction: 100%|██████████| 79/79 [00:02<00:00, 34.20it/s]\n",
      "/extra/datalab_scratch0/ctadler/time_series_models/uni2ts/venv/lib/python3.10/site-packages/sklearn/utils/validation.py:2732: UserWarning: X has feature names, but GaussianMixture was fitted without feature names\n",
      "  warnings.warn(\n"
     ]
    },
    {
     "name": "stdout",
     "output_type": "stream",
     "text": [
      "Completed vancouver 2023-11-20: 3067.10 seconds\n"
     ]
    },
    {
     "name": "stderr",
     "output_type": "stream",
     "text": [
      "Feature Extraction: 100%|██████████| 79/79 [00:01<00:00, 55.61it/s]\n",
      "/extra/datalab_scratch0/ctadler/time_series_models/uni2ts/venv/lib/python3.10/site-packages/sklearn/utils/validation.py:2732: UserWarning: X has feature names, but GaussianMixture was fitted without feature names\n",
      "  warnings.warn(\n"
     ]
    },
    {
     "name": "stdout",
     "output_type": "stream",
     "text": [
      "Completed vancouver 2023-11-16: 3100.57 seconds\n"
     ]
    },
    {
     "name": "stderr",
     "output_type": "stream",
     "text": [
      "Feature Extraction: 100%|██████████| 80/80 [00:02<00:00, 33.31it/s]\n",
      "/extra/datalab_scratch0/ctadler/time_series_models/uni2ts/venv/lib/python3.10/site-packages/sklearn/utils/validation.py:2732: UserWarning: X has feature names, but GaussianMixture was fitted without feature names\n",
      "  warnings.warn(\n"
     ]
    },
    {
     "name": "stdout",
     "output_type": "stream",
     "text": [
      "Completed vancouver 2023-11-26: 3154.93 seconds\n"
     ]
    },
    {
     "name": "stderr",
     "output_type": "stream",
     "text": [
      "Feature Extraction: 100%|██████████| 80/80 [00:02<00:00, 35.28it/s]\n",
      "/extra/datalab_scratch0/ctadler/time_series_models/uni2ts/venv/lib/python3.10/site-packages/sklearn/utils/validation.py:2732: UserWarning: X has feature names, but GaussianMixture was fitted without feature names\n",
      "  warnings.warn(\n"
     ]
    },
    {
     "name": "stdout",
     "output_type": "stream",
     "text": [
      "Completed vancouver 2023-11-18: 3208.90 seconds\n"
     ]
    },
    {
     "name": "stderr",
     "output_type": "stream",
     "text": [
      "Feature Extraction: 100%|██████████| 80/80 [00:02<00:00, 28.94it/s]\n",
      "/extra/datalab_scratch0/ctadler/time_series_models/uni2ts/venv/lib/python3.10/site-packages/sklearn/utils/validation.py:2732: UserWarning: X has feature names, but GaussianMixture was fitted without feature names\n",
      "  warnings.warn(\n"
     ]
    },
    {
     "name": "stdout",
     "output_type": "stream",
     "text": [
      "Completed vancouver 2023-11-22: 3264.04 seconds\n"
     ]
    },
    {
     "name": "stderr",
     "output_type": "stream",
     "text": [
      "Feature Extraction: 100%|██████████| 80/80 [00:02<00:00, 34.62it/s]\n",
      "/extra/datalab_scratch0/ctadler/time_series_models/uni2ts/venv/lib/python3.10/site-packages/sklearn/utils/validation.py:2732: UserWarning: X has feature names, but GaussianMixture was fitted without feature names\n",
      "  warnings.warn(\n"
     ]
    },
    {
     "name": "stdout",
     "output_type": "stream",
     "text": [
      "Completed vancouver 2023-11-17: 3318.09 seconds\n"
     ]
    },
    {
     "name": "stderr",
     "output_type": "stream",
     "text": [
      "Feature Extraction: 100%|██████████| 80/80 [00:02<00:00, 33.82it/s]\n",
      "/extra/datalab_scratch0/ctadler/time_series_models/uni2ts/venv/lib/python3.10/site-packages/sklearn/utils/validation.py:2732: UserWarning: X has feature names, but GaussianMixture was fitted without feature names\n",
      "  warnings.warn(\n"
     ]
    },
    {
     "name": "stdout",
     "output_type": "stream",
     "text": [
      "Completed vancouver 2023-11-27: 3370.28 seconds\n"
     ]
    },
    {
     "name": "stderr",
     "output_type": "stream",
     "text": [
      "Feature Extraction: 100%|██████████| 79/79 [00:02<00:00, 30.94it/s]\n",
      "/extra/datalab_scratch0/ctadler/time_series_models/uni2ts/venv/lib/python3.10/site-packages/sklearn/utils/validation.py:2732: UserWarning: X has feature names, but GaussianMixture was fitted without feature names\n",
      "  warnings.warn(\n"
     ]
    },
    {
     "name": "stdout",
     "output_type": "stream",
     "text": [
      "Completed vancouver 2023-11-24: 3427.38 seconds\n"
     ]
    },
    {
     "name": "stderr",
     "output_type": "stream",
     "text": [
      "Feature Extraction: 100%|██████████| 80/80 [00:02<00:00, 30.92it/s]\n",
      "/extra/datalab_scratch0/ctadler/time_series_models/uni2ts/venv/lib/python3.10/site-packages/sklearn/utils/validation.py:2732: UserWarning: X has feature names, but GaussianMixture was fitted without feature names\n",
      "  warnings.warn(\n"
     ]
    },
    {
     "name": "stdout",
     "output_type": "stream",
     "text": [
      "Completed vancouver 2023-11-29: 3484.21 seconds\n"
     ]
    },
    {
     "name": "stderr",
     "output_type": "stream",
     "text": [
      "Feature Extraction: 100%|██████████| 80/80 [00:02<00:00, 30.83it/s]\n",
      "/extra/datalab_scratch0/ctadler/time_series_models/uni2ts/venv/lib/python3.10/site-packages/sklearn/utils/validation.py:2732: UserWarning: X has feature names, but GaussianMixture was fitted without feature names\n",
      "  warnings.warn(\n"
     ]
    },
    {
     "name": "stdout",
     "output_type": "stream",
     "text": [
      "Completed vancouver 2023-11-25: 3539.88 seconds\n"
     ]
    },
    {
     "name": "stderr",
     "output_type": "stream",
     "text": [
      "Feature Extraction: 100%|██████████| 80/80 [00:02<00:00, 33.61it/s]\n",
      "/extra/datalab_scratch0/ctadler/time_series_models/uni2ts/venv/lib/python3.10/site-packages/sklearn/utils/validation.py:2732: UserWarning: X has feature names, but GaussianMixture was fitted without feature names\n",
      "  warnings.warn(\n"
     ]
    },
    {
     "name": "stdout",
     "output_type": "stream",
     "text": [
      "Completed vancouver 2023-11-28: 3594.46 seconds\n"
     ]
    },
    {
     "name": "stderr",
     "output_type": "stream",
     "text": [
      "Feature Extraction: 100%|██████████| 80/80 [00:02<00:00, 33.22it/s]\n",
      "/extra/datalab_scratch0/ctadler/time_series_models/uni2ts/venv/lib/python3.10/site-packages/sklearn/utils/validation.py:2732: UserWarning: X has feature names, but GaussianMixture was fitted without feature names\n",
      "  warnings.warn(\n"
     ]
    },
    {
     "name": "stdout",
     "output_type": "stream",
     "text": [
      "Completed vancouver 2023-11-21: 3650.57 seconds\n"
     ]
    },
    {
     "name": "stderr",
     "output_type": "stream",
     "text": [
      "Feature Extraction: 100%|██████████| 80/80 [00:00<00:00, 172.59it/s]\n",
      "/extra/datalab_scratch0/ctadler/time_series_models/uni2ts/venv/lib/python3.10/site-packages/sklearn/utils/validation.py:2732: UserWarning: X has feature names, but GaussianMixture was fitted without feature names\n",
      "  warnings.warn(\n"
     ]
    },
    {
     "name": "stdout",
     "output_type": "stream",
     "text": [
      "Completed victoria 2023-11-23: 3660.24 seconds\n"
     ]
    },
    {
     "name": "stderr",
     "output_type": "stream",
     "text": [
      "Feature Extraction: 100%|██████████| 80/80 [00:02<00:00, 35.25it/s]\n",
      "/extra/datalab_scratch0/ctadler/time_series_models/uni2ts/venv/lib/python3.10/site-packages/sklearn/utils/validation.py:2732: UserWarning: X has feature names, but GaussianMixture was fitted without feature names\n",
      "  warnings.warn(\n"
     ]
    },
    {
     "name": "stdout",
     "output_type": "stream",
     "text": [
      "Completed victoria 2023-11-30: 3712.31 seconds\n"
     ]
    },
    {
     "name": "stderr",
     "output_type": "stream",
     "text": [
      "Feature Extraction: 100%|██████████| 80/80 [00:02<00:00, 33.33it/s]\n",
      "/extra/datalab_scratch0/ctadler/time_series_models/uni2ts/venv/lib/python3.10/site-packages/sklearn/utils/validation.py:2732: UserWarning: X has feature names, but GaussianMixture was fitted without feature names\n",
      "  warnings.warn(\n"
     ]
    },
    {
     "name": "stdout",
     "output_type": "stream",
     "text": [
      "Completed victoria 2023-11-19: 3769.06 seconds\n"
     ]
    },
    {
     "name": "stderr",
     "output_type": "stream",
     "text": [
      "Feature Extraction: 100%|██████████| 80/80 [00:02<00:00, 35.90it/s]\n",
      "/extra/datalab_scratch0/ctadler/time_series_models/uni2ts/venv/lib/python3.10/site-packages/sklearn/utils/validation.py:2732: UserWarning: X has feature names, but GaussianMixture was fitted without feature names\n",
      "  warnings.warn(\n"
     ]
    },
    {
     "name": "stdout",
     "output_type": "stream",
     "text": [
      "Completed victoria 2023-11-20: 3823.34 seconds\n"
     ]
    },
    {
     "name": "stderr",
     "output_type": "stream",
     "text": [
      "Feature Extraction: 100%|██████████| 79/79 [00:01<00:00, 50.77it/s]\n",
      "/extra/datalab_scratch0/ctadler/time_series_models/uni2ts/venv/lib/python3.10/site-packages/sklearn/utils/validation.py:2732: UserWarning: X has feature names, but GaussianMixture was fitted without feature names\n",
      "  warnings.warn(\n"
     ]
    },
    {
     "name": "stdout",
     "output_type": "stream",
     "text": [
      "Completed victoria 2023-11-16: 3858.55 seconds\n"
     ]
    },
    {
     "name": "stderr",
     "output_type": "stream",
     "text": [
      "Feature Extraction: 100%|██████████| 80/80 [00:02<00:00, 36.19it/s]\n",
      "/extra/datalab_scratch0/ctadler/time_series_models/uni2ts/venv/lib/python3.10/site-packages/sklearn/utils/validation.py:2732: UserWarning: X has feature names, but GaussianMixture was fitted without feature names\n",
      "  warnings.warn(\n"
     ]
    },
    {
     "name": "stdout",
     "output_type": "stream",
     "text": [
      "Completed victoria 2023-11-26: 3908.79 seconds\n"
     ]
    },
    {
     "name": "stderr",
     "output_type": "stream",
     "text": [
      "Feature Extraction: 100%|██████████| 80/80 [00:02<00:00, 32.45it/s]\n",
      "/extra/datalab_scratch0/ctadler/time_series_models/uni2ts/venv/lib/python3.10/site-packages/sklearn/utils/validation.py:2732: UserWarning: X has feature names, but GaussianMixture was fitted without feature names\n",
      "  warnings.warn(\n"
     ]
    },
    {
     "name": "stdout",
     "output_type": "stream",
     "text": [
      "Completed victoria 2023-11-18: 3965.35 seconds\n"
     ]
    },
    {
     "name": "stderr",
     "output_type": "stream",
     "text": [
      "Feature Extraction: 100%|██████████| 79/79 [00:01<00:00, 54.22it/s]\n",
      "/extra/datalab_scratch0/ctadler/time_series_models/uni2ts/venv/lib/python3.10/site-packages/sklearn/utils/validation.py:2732: UserWarning: X has feature names, but GaussianMixture was fitted without feature names\n",
      "  warnings.warn(\n"
     ]
    },
    {
     "name": "stdout",
     "output_type": "stream",
     "text": [
      "Completed victoria 2023-11-22: 4001.93 seconds\n"
     ]
    },
    {
     "name": "stderr",
     "output_type": "stream",
     "text": [
      "Feature Extraction: 100%|██████████| 80/80 [00:01<00:00, 40.32it/s]\n",
      "/extra/datalab_scratch0/ctadler/time_series_models/uni2ts/venv/lib/python3.10/site-packages/sklearn/utils/validation.py:2732: UserWarning: X has feature names, but GaussianMixture was fitted without feature names\n",
      "  warnings.warn(\n"
     ]
    },
    {
     "name": "stdout",
     "output_type": "stream",
     "text": [
      "Completed victoria 2023-11-17: 4050.23 seconds\n"
     ]
    },
    {
     "name": "stderr",
     "output_type": "stream",
     "text": [
      "Feature Extraction: 100%|██████████| 80/80 [00:02<00:00, 34.66it/s]\n",
      "/extra/datalab_scratch0/ctadler/time_series_models/uni2ts/venv/lib/python3.10/site-packages/sklearn/utils/validation.py:2732: UserWarning: X has feature names, but GaussianMixture was fitted without feature names\n",
      "  warnings.warn(\n"
     ]
    },
    {
     "name": "stdout",
     "output_type": "stream",
     "text": [
      "Completed victoria 2023-11-27: 4102.49 seconds\n"
     ]
    },
    {
     "name": "stderr",
     "output_type": "stream",
     "text": [
      "Feature Extraction: 100%|██████████| 80/80 [00:02<00:00, 35.27it/s]\n",
      "/extra/datalab_scratch0/ctadler/time_series_models/uni2ts/venv/lib/python3.10/site-packages/sklearn/utils/validation.py:2732: UserWarning: X has feature names, but GaussianMixture was fitted without feature names\n",
      "  warnings.warn(\n"
     ]
    },
    {
     "name": "stdout",
     "output_type": "stream",
     "text": [
      "Completed victoria 2023-11-24: 4158.00 seconds\n"
     ]
    },
    {
     "name": "stderr",
     "output_type": "stream",
     "text": [
      "Feature Extraction: 100%|██████████| 80/80 [00:02<00:00, 37.21it/s]\n",
      "/extra/datalab_scratch0/ctadler/time_series_models/uni2ts/venv/lib/python3.10/site-packages/sklearn/utils/validation.py:2732: UserWarning: X has feature names, but GaussianMixture was fitted without feature names\n",
      "  warnings.warn(\n"
     ]
    },
    {
     "name": "stdout",
     "output_type": "stream",
     "text": [
      "Completed victoria 2023-11-29: 4212.24 seconds\n"
     ]
    },
    {
     "name": "stderr",
     "output_type": "stream",
     "text": [
      "Feature Extraction: 100%|██████████| 80/80 [00:02<00:00, 31.98it/s]\n",
      "/extra/datalab_scratch0/ctadler/time_series_models/uni2ts/venv/lib/python3.10/site-packages/sklearn/utils/validation.py:2732: UserWarning: X has feature names, but GaussianMixture was fitted without feature names\n",
      "  warnings.warn(\n"
     ]
    },
    {
     "name": "stdout",
     "output_type": "stream",
     "text": [
      "Completed victoria 2023-11-25: 4268.59 seconds\n"
     ]
    },
    {
     "name": "stderr",
     "output_type": "stream",
     "text": [
      "Feature Extraction: 100%|██████████| 80/80 [00:02<00:00, 38.07it/s]\n",
      "/extra/datalab_scratch0/ctadler/time_series_models/uni2ts/venv/lib/python3.10/site-packages/sklearn/utils/validation.py:2732: UserWarning: X has feature names, but GaussianMixture was fitted without feature names\n",
      "  warnings.warn(\n"
     ]
    },
    {
     "name": "stdout",
     "output_type": "stream",
     "text": [
      "Completed victoria 2023-11-28: 4317.81 seconds\n"
     ]
    },
    {
     "name": "stderr",
     "output_type": "stream",
     "text": [
      "Feature Extraction: 100%|██████████| 80/80 [00:02<00:00, 32.85it/s]\n",
      "/extra/datalab_scratch0/ctadler/time_series_models/uni2ts/venv/lib/python3.10/site-packages/sklearn/utils/validation.py:2732: UserWarning: X has feature names, but GaussianMixture was fitted without feature names\n",
      "  warnings.warn(\n"
     ]
    },
    {
     "name": "stdout",
     "output_type": "stream",
     "text": [
      "Completed victoria 2023-11-21: 4371.95 seconds\n"
     ]
    }
   ],
   "source": [
    "timer = time.time()\n",
    "for city in CITIES:\n",
    "    for folder in os.listdir(f\"{UPPER_DIR}/{city}\"):\n",
    "        df_raw, start_time = load_ts(f\"{UPPER_DIR}/{city}\", folder)\n",
    "        filtered_features, top_feature_names = get_features(df_raw, fc_settings, \n",
    "                                                            top_feature_names=top_feature_names)\n",
    "        df_clustered, cluster_map, gmm = cluster_features(filtered_features, df_raw, gmm=gmm)\n",
    "        save_clusters(f\"{UPPER_DIR}/{city}/{folder}\", df_clustered, cluster_map)\n",
    "        df_raw, clusters = load_clusters(f\"{UPPER_DIR}/{city}/{folder}/cluster_results.csv\", df_raw)\n",
    "        df_long, df_features = process_sequence(df_raw, start_time, clusters)\n",
    "        save_sequence(df_long, f\"{UPPER_DIR}/{city}/{folder}\")\n",
    "        print(f\"Completed {city} {folder}: {(time.time()-timer):.2f} seconds\")"
   ]
  },
  {
   "cell_type": "code",
   "execution_count": 5,
   "id": "a395f1b1",
   "metadata": {},
   "outputs": [
    {
     "name": "stdout",
     "output_type": "stream",
     "text": [
      "['value__quantile__q_0.05', 'value__mean', 'value__truncated_mean__q_0.05', 'value__quantile__q_0.125', 'value__autocorrelation__lag_2', 'value__autocorrelation__lag_5', 'value__autocorrelation__lag_3']\n"
     ]
    }
   ],
   "source": [
    "print(top_feature_names)"
   ]
  },
  {
   "cell_type": "code",
   "execution_count": 6,
   "id": "2d261f5e",
   "metadata": {},
   "outputs": [
    {
     "name": "stdout",
     "output_type": "stream",
     "text": [
      "Model saved to gmm_model.pkl\n",
      "Model loaded from gmm_model.pkl\n"
     ]
    }
   ],
   "source": [
    "filename = \"gmm_model.pkl\"\n",
    "with open(filename, 'wb') as file:\n",
    "    pickle.dump(gmm, file)\n",
    "print(f\"Model saved to {filename}\")\n",
    "\n",
    "with open(filename, 'rb') as file:\n",
    "    gmm = pickle.load(file)\n",
    "print(f\"Model loaded from {filename}\")"
   ]
  },
  {
   "cell_type": "code",
   "execution_count": 7,
   "id": "56f5796f",
   "metadata": {},
   "outputs": [
    {
     "name": "stdout",
     "output_type": "stream",
     "text": [
      "6.039671421051025\n"
     ]
    },
    {
     "data": {
      "text/html": [
       "<div>\n",
       "<style scoped>\n",
       "    .dataframe tbody tr th:only-of-type {\n",
       "        vertical-align: middle;\n",
       "    }\n",
       "\n",
       "    .dataframe tbody tr th {\n",
       "        vertical-align: top;\n",
       "    }\n",
       "\n",
       "    .dataframe thead th {\n",
       "        text-align: right;\n",
       "    }\n",
       "</style>\n",
       "<table border=\"1\" class=\"dataframe\">\n",
       "  <thead>\n",
       "    <tr style=\"text-align: right;\">\n",
       "      <th></th>\n",
       "      <th>id</th>\n",
       "      <th>timestamp</th>\n",
       "      <th>rtt_token</th>\n",
       "      <th>rtt_nearest</th>\n",
       "    </tr>\n",
       "  </thead>\n",
       "  <tbody>\n",
       "    <tr>\n",
       "      <th>0</th>\n",
       "      <td>0</td>\n",
       "      <td>2023-11-17 01:00:12.000</td>\n",
       "      <td>47.894040</td>\n",
       "      <td>47.894040</td>\n",
       "    </tr>\n",
       "    <tr>\n",
       "      <th>1</th>\n",
       "      <td>0</td>\n",
       "      <td>2023-11-17 01:00:12.010</td>\n",
       "      <td>-1.000000</td>\n",
       "      <td>47.894040</td>\n",
       "    </tr>\n",
       "    <tr>\n",
       "      <th>2</th>\n",
       "      <td>0</td>\n",
       "      <td>2023-11-17 01:00:12.020</td>\n",
       "      <td>-1.000000</td>\n",
       "      <td>47.894040</td>\n",
       "    </tr>\n",
       "    <tr>\n",
       "      <th>3</th>\n",
       "      <td>0</td>\n",
       "      <td>2023-11-17 01:00:12.030</td>\n",
       "      <td>-1.000000</td>\n",
       "      <td>31.412807</td>\n",
       "    </tr>\n",
       "    <tr>\n",
       "      <th>4</th>\n",
       "      <td>0</td>\n",
       "      <td>2023-11-17 01:00:12.040</td>\n",
       "      <td>31.412807</td>\n",
       "      <td>31.412807</td>\n",
       "    </tr>\n",
       "    <tr>\n",
       "      <th>...</th>\n",
       "      <td>...</td>\n",
       "      <td>...</td>\n",
       "      <td>...</td>\n",
       "      <td>...</td>\n",
       "    </tr>\n",
       "    <tr>\n",
       "      <th>8230495</th>\n",
       "      <td>5518</td>\n",
       "      <td>2023-11-17 23:59:56.950</td>\n",
       "      <td>80.803849</td>\n",
       "      <td>80.803849</td>\n",
       "    </tr>\n",
       "    <tr>\n",
       "      <th>8230496</th>\n",
       "      <td>5518</td>\n",
       "      <td>2023-11-17 23:59:56.960</td>\n",
       "      <td>71.121652</td>\n",
       "      <td>71.121652</td>\n",
       "    </tr>\n",
       "    <tr>\n",
       "      <th>8230497</th>\n",
       "      <td>5518</td>\n",
       "      <td>2023-11-17 23:59:56.970</td>\n",
       "      <td>61.879582</td>\n",
       "      <td>61.879582</td>\n",
       "    </tr>\n",
       "    <tr>\n",
       "      <th>8230498</th>\n",
       "      <td>5518</td>\n",
       "      <td>2023-11-17 23:59:56.980</td>\n",
       "      <td>102.331549</td>\n",
       "      <td>102.331549</td>\n",
       "    </tr>\n",
       "    <tr>\n",
       "      <th>8230499</th>\n",
       "      <td>5518</td>\n",
       "      <td>2023-11-17 23:59:56.990</td>\n",
       "      <td>92.077632</td>\n",
       "      <td>92.077632</td>\n",
       "    </tr>\n",
       "  </tbody>\n",
       "</table>\n",
       "<p>8230500 rows × 4 columns</p>\n",
       "</div>"
      ],
      "text/plain": [
       "           id                timestamp   rtt_token  rtt_nearest\n",
       "0           0  2023-11-17 01:00:12.000   47.894040    47.894040\n",
       "1           0  2023-11-17 01:00:12.010   -1.000000    47.894040\n",
       "2           0  2023-11-17 01:00:12.020   -1.000000    47.894040\n",
       "3           0  2023-11-17 01:00:12.030   -1.000000    31.412807\n",
       "4           0  2023-11-17 01:00:12.040   31.412807    31.412807\n",
       "...       ...                      ...         ...          ...\n",
       "8230495  5518  2023-11-17 23:59:56.950   80.803849    80.803849\n",
       "8230496  5518  2023-11-17 23:59:56.960   71.121652    71.121652\n",
       "8230497  5518  2023-11-17 23:59:56.970   61.879582    61.879582\n",
       "8230498  5518  2023-11-17 23:59:56.980  102.331549   102.331549\n",
       "8230499  5518  2023-11-17 23:59:56.990   92.077632    92.077632\n",
       "\n",
       "[8230500 rows x 4 columns]"
      ]
     },
     "metadata": {},
     "output_type": "display_data"
    }
   ],
   "source": [
    "start_timer = time.time()\n",
    "df = pd.read_csv(\"/extra/datalab_scratch0/ctadler/time_series_models/timeseries_clustering/data/LENS-2023-11-CSV/LENS-2023-11-CSV/inside-out/active/frankfurt/2023-11-17/clustering_data.csv\", index_col=None)\n",
    "print(time.time()-start_timer)\n",
    "display(df)"
   ]
  },
  {
   "cell_type": "code",
   "execution_count": null,
   "id": "55e446cf",
   "metadata": {},
   "outputs": [],
   "source": []
  }
 ],
 "metadata": {
  "kernelspec": {
   "display_name": "venv",
   "language": "python",
   "name": "python3"
  },
  "language_info": {
   "codemirror_mode": {
    "name": "ipython",
    "version": 3
   },
   "file_extension": ".py",
   "mimetype": "text/x-python",
   "name": "python",
   "nbconvert_exporter": "python",
   "pygments_lexer": "ipython3",
   "version": "3.10.12"
  }
 },
 "nbformat": 4,
 "nbformat_minor": 5
}
